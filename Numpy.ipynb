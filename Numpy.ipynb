{
 "cells": [
  {
   "cell_type": "code",
   "execution_count": 2,
   "id": "78fc24ef-724b-4c98-95f1-26f86fa45d39",
   "metadata": {},
   "outputs": [],
   "source": [
    "# Installation of NumPy\n",
    "#If you have Python and PIP already installed on a system, then installation of NumPy is very easy.Install it using this command:\n",
    "#C:\\Users\\Your Name>pip install numpy\n",
    "#Import NumPy\n",
    "#Once NumPy is installed, import it in your applications by adding the import keyword:\n",
    "import numpy"
   ]
  },
  {
   "cell_type": "code",
   "execution_count": 3,
   "id": "f5878870-143a-4e27-9f67-3ed7883cadff",
   "metadata": {},
   "outputs": [
    {
     "name": "stdout",
     "output_type": "stream",
     "text": [
      "[1 2 3 4 5]\n"
     ]
    }
   ],
   "source": [
    "#Example:\n",
    "import numpy\n",
    "arr = numpy.array([1, 2, 3, 4, 5])\n",
    "print(arr)"
   ]
  },
  {
   "cell_type": "code",
   "execution_count": 4,
   "id": "2b3a6619-f6ae-4956-ad80-be8c4e216b07",
   "metadata": {},
   "outputs": [
    {
     "name": "stdout",
     "output_type": "stream",
     "text": [
      "[1 2 3 4 5]\n"
     ]
    }
   ],
   "source": [
    "#Numpy as np:\n",
    "#NumPy is usually imported under the np alias.\n",
    "#Alias: In Python alias are an alternate name for referring to the same thing.\n",
    "#Create an alias with the as keyword while importing:\n",
    "import numpy as np\n",
    "#Example:\n",
    "import numpy as np\n",
    "arr = np.array([1, 2, 3, 4, 5])\n",
    "print(arr)"
   ]
  },
  {
   "cell_type": "code",
   "execution_count": 5,
   "id": "a1eb6ee1-45c2-420e-b5d0-02f33dda72ec",
   "metadata": {},
   "outputs": [
    {
     "name": "stdout",
     "output_type": "stream",
     "text": [
      "2.0.1\n"
     ]
    }
   ],
   "source": [
    "#Checking NumPy Version:\n",
    "#The version string is stored unde\" __version__ attribute.\"\n",
    "#Example\n",
    "import numpy as np\n",
    "print(np.__version__)"
   ]
  },
  {
   "cell_type": "code",
   "execution_count": 2,
   "id": "a9885161-58e4-4908-b0c9-7a512e19f1e9",
   "metadata": {},
   "outputs": [
    {
     "name": "stdout",
     "output_type": "stream",
     "text": [
      "[1 2 3 4 5]\n",
      "<class 'numpy.ndarray'>\n"
     ]
    }
   ],
   "source": [
    "#Create a NumPy ndarray Object:\n",
    "#Numpy is used to work with arrays.The array object in NumPy is called ndarray.\n",
    "#We can create a NumPy ndarray object by using the array() function.\n",
    "#Example:\n",
    "import numpy as np\n",
    "arr = np.array([1, 2, 3, 4, 5])\n",
    "print(arr)\n",
    "print(type(arr))"
   ]
  },
  {
   "cell_type": "code",
   "execution_count": 3,
   "id": "3c60b219-faf5-4ed6-9550-c45d3b53a439",
   "metadata": {},
   "outputs": [
    {
     "name": "stdout",
     "output_type": "stream",
     "text": [
      "[1 2 3 4 5]\n"
     ]
    }
   ],
   "source": [
    "#To create an ndarray, we can pass a list, tuple or any array-like object into the array() method, and it will be converted into an ndarray:\n",
    "#Example\n",
    "#Use a tuple to create a NumPy array:\n",
    "import numpy as np\n",
    "arr = np.array((1, 2, 3, 4, 5))\n",
    "print(arr)"
   ]
  },
  {
   "cell_type": "code",
   "execution_count": 4,
   "id": "35b83eb9-96b7-48bb-b39e-4a7ccf7a28c0",
   "metadata": {},
   "outputs": [
    {
     "name": "stdout",
     "output_type": "stream",
     "text": [
      "42\n"
     ]
    }
   ],
   "source": [
    "#Dimensions in Arrays:A dimension in arrays is one level of array depth (nested arrays).\n",
    "#Nested array: are arrays that have arrays as their elements.\n",
    "#0-D Arrays:0-D arrays, or Scalars, are the elements in an array. Each value in an array is a 0-D array.\n",
    "#Example\n",
    "#Create a 0-D array with value 42\n",
    "import numpy as np\n",
    "arr = np.array(42)\n",
    "print(arr)"
   ]
  },
  {
   "cell_type": "code",
   "execution_count": 5,
   "id": "c7f1f04d-8d1c-434a-b00b-590127b25815",
   "metadata": {},
   "outputs": [
    {
     "name": "stdout",
     "output_type": "stream",
     "text": [
      "[1 2 3 4 5]\n"
     ]
    }
   ],
   "source": [
    "#Example:Create a 1-D array containing the values 1,2,3,4,5:\n",
    "import numpy as np\n",
    "arr = np.array([1, 2, 3, 4, 5])\n",
    "print(arr)"
   ]
  },
  {
   "cell_type": "code",
   "execution_count": 6,
   "id": "6ecf01c1-996b-4ce9-9307-0ecb60c1b4b4",
   "metadata": {},
   "outputs": [
    {
     "name": "stdout",
     "output_type": "stream",
     "text": [
      "[[1 2 3]\n",
      " [4 5 6]]\n"
     ]
    }
   ],
   "source": [
    "#Example:Create a 2-D array containing two arrays with the values 1,2,3 and 4,5,6:\n",
    "import numpy as np\n",
    "arr = np.array([[1, 2, 3], [4, 5, 6]])\n",
    "print(arr)"
   ]
  },
  {
   "cell_type": "code",
   "execution_count": 7,
   "id": "0d2aaf5a-e7cf-4e8e-b49b-c9f1ddd6bcdb",
   "metadata": {},
   "outputs": [
    {
     "name": "stdout",
     "output_type": "stream",
     "text": [
      "[[[1 2 3]\n",
      "  [4 5 6]]\n",
      "\n",
      " [[1 2 3]\n",
      "  [4 5 6]]]\n"
     ]
    }
   ],
   "source": [
    "#3-D arrays:An array that has 2-D arrays (matrices) as its elements is called 3-D array.These are often used to represent a 3rd order tensor.\n",
    "#Example:Create a 3-D array with two 2-D arrays,both containing two arrays with the values 1,2,3 and 4,5,6:\n",
    "import numpy as np\n",
    "arr = np.array([[[1, 2, 3], [4, 5, 6]], [[1, 2, 3], [4, 5, 6]]])\n",
    "print(arr)"
   ]
  },
  {
   "cell_type": "code",
   "execution_count": 8,
   "id": "604f2d1b-6d8e-41ef-aa78-9f3e635c746b",
   "metadata": {},
   "outputs": [
    {
     "name": "stdout",
     "output_type": "stream",
     "text": [
      "0\n",
      "1\n",
      "2\n",
      "3\n"
     ]
    }
   ],
   "source": [
    "#Example:Check how many dimensions the arrays have:\n",
    "import numpy as np\n",
    "a = np.array(42)\n",
    "b = np.array([1, 2, 3, 4, 5])\n",
    "c = np.array([[1, 2, 3], [4, 5, 6]])\n",
    "d = np.array([[[1, 2, 3], [4, 5, 6]], [[1, 2, 3], [4, 5, 6]]])\n",
    "print(a.ndim)\n",
    "print(b.ndim)\n",
    "print(c.ndim)\n",
    "print(d.ndim)"
   ]
  },
  {
   "cell_type": "code",
   "execution_count": 9,
   "id": "16523986-79de-4430-84d4-08113f820a2e",
   "metadata": {},
   "outputs": [
    {
     "name": "stdout",
     "output_type": "stream",
     "text": [
      "[[[[[1 2 3 4]]]]]\n",
      "number of dimensions : 5\n"
     ]
    }
   ],
   "source": [
    "#Higher Dimensional Arrays:An array can have any number of dimensions.When the array is created, you can define the number of dimensions by using the ndmin argument.\n",
    "#Example:Create an array with 5 dimensions and verify that it has 5 dimensions:\n",
    "import numpy as np\n",
    "arr = np.array([1, 2, 3, 4], ndmin=5)\n",
    "print(arr)\n",
    "print('number of dimensions :', arr.ndim)"
   ]
  },
  {
   "cell_type": "code",
   "execution_count": 12,
   "id": "3dfd0368-2659-4b3d-94f1-ecbdf933649a",
   "metadata": {},
   "outputs": [
    {
     "name": "stdout",
     "output_type": "stream",
     "text": [
      "[1 2 3 4 5]\n"
     ]
    }
   ],
   "source": [
    "#Exercise:Insert the correct method for creating a NumPy array.\n",
    "#arr = np.--------([1, 2, 3, 4, 5])\n",
    "#Solution:\n",
    "import numpy as np\n",
    "arr = np.array([1, 2, 3, 4, 5])\n",
    "print(arr)"
   ]
  },
  {
   "cell_type": "code",
   "execution_count": 13,
   "id": "525b6dbf-1c7f-4a91-9172-75d9d4911089",
   "metadata": {},
   "outputs": [
    {
     "name": "stdout",
     "output_type": "stream",
     "text": [
      "1\n"
     ]
    }
   ],
   "source": [
    "#Access Array Elements:Array indexing is the same as accessing an array element.You can access an array element by referring to its index number.\n",
    "#The indexes in NumPy arrays start with 0,meaning that the first element has index 0, and the second has index 1 etc.\n",
    "#Example:Get the first element from the following array:\n",
    "import numpy as np\n",
    "arr = np.array([1, 2, 3, 4])\n",
    "print(arr[0])"
   ]
  },
  {
   "cell_type": "code",
   "execution_count": 19,
   "id": "d7b50c6c-0adf-465d-b159-aa8dfc3b814f",
   "metadata": {},
   "outputs": [
    {
     "name": "stdout",
     "output_type": "stream",
     "text": [
      "Sum of third and fourth elements: 13\n",
      "Power of the third element: 36\n",
      "Square root of the second element: 2.23606797749979\n"
     ]
    }
   ],
   "source": [
    "#Example:Get third and fourth elements from the following array and add them:\n",
    "#1. Take power of the third element.\n",
    "#2. Take the squareroot of second element.[4,5,6,7,8,9]:\n",
    "#Solution: \n",
    "import numpy as np\n",
    "arr = np.array([4, 5, 6, 7, 8, 9])\n",
    "sum_third_fourth = arr[2] + arr[3]\n",
    "print(\"Sum of third and fourth elements:\", sum_third_fourth)\n",
    "# Power of the third element\n",
    "power_third = arr[2] ** 2\n",
    "print(\"Power of the third element:\", power_third)\n",
    "# Square root of the second element\n",
    "sqrt_second = np.sqrt(arr[1])\n",
    "print(\"Square root of the second element:\", sqrt_second)\n"
   ]
  },
  {
   "cell_type": "code",
   "execution_count": 33,
   "id": "946de74d-a8ca-4900-b907-9ce322b179e5",
   "metadata": {},
   "outputs": [
    {
     "name": "stdout",
     "output_type": "stream",
     "text": [
      "[1 2 3 4 5 6]\n"
     ]
    }
   ],
   "source": [
    "#use of concatenate \n",
    "import numpy as nm\n",
    "arr1 = nm.array([1, 2, 3])\n",
    "arr2 = nm.array([4, 5, 6])\n",
    "arr= nm.concatenate((arr1,arr2))\n",
    "print(arr)"
   ]
  },
  {
   "cell_type": "code",
   "execution_count": 20,
   "id": "5c8d62cc-2381-4d5b-95de-fdc0ed67eaee",
   "metadata": {},
   "outputs": [
    {
     "name": "stdout",
     "output_type": "stream",
     "text": [
      "5th element on 2nd row:  10\n"
     ]
    }
   ],
   "source": [
    "#Example:Access the element on the 2nd row, 5th column:\n",
    "import numpy as np\n",
    "arr = np.array([[1,2,3,4,5], [6,7,8,9,10]])\n",
    "print('5th element on 2nd row: ', arr[1, 4])"
   ]
  },
  {
   "cell_type": "code",
   "execution_count": 22,
   "id": "32906a84-dc44-4e1f-8dfe-9caadfd113e8",
   "metadata": {},
   "outputs": [
    {
     "name": "stdout",
     "output_type": "stream",
     "text": [
      "[7 8 9]\n"
     ]
    }
   ],
   "source": [
    "#Slicing 2-D Arrays\n",
    "#Example:From the second element, slice elements from index 1 to index 4 (not included):\n",
    "import numpy as np\n",
    "arr = np.array([[1, 2, 3, 4, 5], [6, 7, 8, 9, 10]])\n",
    "print(arr[1, 1:4])"
   ]
  },
  {
   "cell_type": "code",
   "execution_count": 23,
   "id": "68873f75-5111-4db0-9d4e-8761393c21ee",
   "metadata": {},
   "outputs": [
    {
     "name": "stdout",
     "output_type": "stream",
     "text": [
      "int64\n"
     ]
    }
   ],
   "source": [
    "#Checking the Data Type of an Array:The NumPy array object has a property called dtype that returns the data type of the array:\n",
    "#Example:Get the data type of an array object:\n",
    "import numpy as np\n",
    "arr = np.array([1, 2, 3, 4])\n",
    "print(arr.dtype)"
   ]
  },
  {
   "cell_type": "code",
   "execution_count": 24,
   "id": "17a20e60-1b86-4b36-842d-afa1a02787af",
   "metadata": {},
   "outputs": [
    {
     "name": "stdout",
     "output_type": "stream",
     "text": [
      "[b'1' b'2' b'3' b'4']\n",
      "|S1\n"
     ]
    }
   ],
   "source": [
    "#Create an array with data type string:\n",
    "import numpy as np\n",
    "arr = np.array([1, 2, 3, 4], dtype='S')\n",
    "print(arr)\n",
    "print(arr.dtype)"
   ]
  },
  {
   "cell_type": "code",
   "execution_count": 25,
   "id": "1e236b75-44e9-4456-841d-702a4e86818f",
   "metadata": {},
   "outputs": [
    {
     "name": "stdout",
     "output_type": "stream",
     "text": [
      "[1 2 3 4]\n",
      "int32\n"
     ]
    }
   ],
   "source": [
    "#for i, u, f, S and U we can define size as well.\n",
    "#Example:Create an array with data type 4 bytes integer:\n",
    "import numpy as np\n",
    "arr = np.array([1, 2, 3, 4], dtype='i4')\n",
    "print(arr)\n",
    "print(arr.dtype)"
   ]
  },
  {
   "cell_type": "code",
   "execution_count": 27,
   "id": "daad6aef-73dd-4847-8f3c-fdb4170c8118",
   "metadata": {},
   "outputs": [
    {
     "name": "stdout",
     "output_type": "stream",
     "text": [
      "Error: invalid literal for int() with base 10: 'a'\n"
     ]
    }
   ],
   "source": [
    "#Example:A non integer string like 'a' cannot be converted to integer (will raise an error):\n",
    "import numpy as np\n",
    "try:\n",
    "  arr = np.array(['a', '2', '3'], dtype='i')\n",
    "except ValueError as e:\n",
    "  print(f\"Error: {e}\")"
   ]
  },
  {
   "cell_type": "code",
   "execution_count": 28,
   "id": "dc766220-eda8-4988-81ba-1feecb0dae7c",
   "metadata": {},
   "outputs": [
    {
     "name": "stdout",
     "output_type": "stream",
     "text": [
      "[1 2 3]\n",
      "int32\n"
     ]
    }
   ],
   "source": [
    "#Example:Change data type from float to integer by using 'i' as parameter value:\n",
    "import numpy as np\n",
    "arr = np.array([1.1, 2.1, 3.1])\n",
    "newarr = arr.astype('i')\n",
    "print(newarr)\n",
    "print(newarr.dtype)"
   ]
  },
  {
   "cell_type": "code",
   "execution_count": 29,
   "id": "a04028e9-b2dd-42ed-8906-eb4b8c352197",
   "metadata": {},
   "outputs": [
    {
     "name": "stdout",
     "output_type": "stream",
     "text": [
      "[1 2 3]\n",
      "int64\n"
     ]
    }
   ],
   "source": [
    "#Example:Change data type from float to integer by using int as parameter value:\n",
    "import numpy as np\n",
    "arr = np.array([1.1, 2.1, 3.1])\n",
    "newarr = arr.astype(int)\n",
    "print(newarr)\n",
    "print(newarr.dtype)"
   ]
  },
  {
   "cell_type": "code",
   "execution_count": 30,
   "id": "b0b2c82a-dbfe-4436-ad50-09a7a625b809",
   "metadata": {},
   "outputs": [
    {
     "name": "stdout",
     "output_type": "stream",
     "text": [
      "(2, 4)\n"
     ]
    }
   ],
   "source": [
    "#Shape of an Array:The shape of an array is the number of elements in each dimension.Get the Shape of an Array NumPy arrays have an attribute called shape that returns a tuple with each index having the number \n",
    "#of corresponding elemens.\n",
    "#Example:Print the shape of a 2-D array:\n",
    "import numpy as np\n",
    "arr = np.array([[1, 2, 3, 4], [5, 6, 7, 8]])\n",
    "print(arr.shape)"
   ]
  },
  {
   "cell_type": "code",
   "execution_count": 31,
   "id": "f40677dc-bb16-4a11-b3e9-328520370138",
   "metadata": {},
   "outputs": [
    {
     "name": "stdout",
     "output_type": "stream",
     "text": [
      "[[[[[1 2 3 4]]]]]\n",
      "shape of array : (1, 1, 1, 1, 4)\n"
     ]
    }
   ],
   "source": [
    "#Example:Create an array with 5 dimensions using ndmin using a vector with values 1,2,3,4 and verify that last dimension has value 4:\n",
    "import numpy as np\n",
    "arr = np.array([1, 2, 3, 4], ndmin=5)\n",
    "print(arr)\n",
    "print('shape of array :', arr.shape)"
   ]
  },
  {
   "cell_type": "code",
   "execution_count": 1,
   "id": "f4c84d47-f2d5-4701-97dc-c28d69651d64",
   "metadata": {},
   "outputs": [
    {
     "name": "stdout",
     "output_type": "stream",
     "text": [
      "[[ 1  2  3]\n",
      " [ 4  5  6]\n",
      " [ 7  8  9]\n",
      " [10 11 12]]\n"
     ]
    }
   ],
   "source": [
    "#Reshaping arrays:Reshaping means changing the shape of an array.\n",
    "#The shape of an array is the number of elements in each dimension.By reshaping we can add or remove dimensions or change number of elements in each dimension.\n",
    "#Reshape From 1-D to 2-D\n",
    "#Example:Convert the following 1-D array with 12 elements into a 2-D array.\n",
    "#The outermost dimension will have 4 arrays, each with 3 elements:\n",
    "import numpy as np\n",
    "arr = np.array([1, 2, 3, 4, 5, 6, 7, 8, 9, 10, 11, 12])\n",
    "newarr = arr.reshape(4, 3)\n",
    "print(newarr)"
   ]
  },
  {
   "cell_type": "code",
   "execution_count": 2,
   "id": "ada46516-c5bc-4a96-ac9d-6f95d724fdcb",
   "metadata": {},
   "outputs": [
    {
     "name": "stdout",
     "output_type": "stream",
     "text": [
      "[[[ 1  2]\n",
      "  [ 3  4]\n",
      "  [ 5  6]]\n",
      "\n",
      " [[ 7  8]\n",
      "  [ 9 10]\n",
      "  [11 12]]]\n"
     ]
    }
   ],
   "source": [
    "#Reshape From 1-D to 3-D\n",
    "#Example:Convert the following 1-D array with 12 elements into a 3-D array.\n",
    "#The outermost dimension will have 2 arrays that contains 3 arrays, each with 2 elements:\n",
    "import numpy as np\n",
    "arr = np.array([1, 2, 3, 4, 5, 6, 7, 8, 9, 10, 11, 12])\n",
    "newarr = arr.reshape(2, 3, 2)\n",
    "print(newarr)"
   ]
  },
  {
   "cell_type": "code",
   "execution_count": 3,
   "id": "8f10f8ae-5758-4268-b8a4-dc3238671e81",
   "metadata": {},
   "outputs": [
    {
     "name": "stdout",
     "output_type": "stream",
     "text": [
      "[1 2 3 4 5 6 7 8]\n"
     ]
    }
   ],
   "source": [
    "#Returns Copy or View?\n",
    "#Example:Check if the returned array is a copy or a view:\n",
    "import numpy as np\n",
    "arr = np.array([1, 2, 3, 4, 5, 6, 7, 8])\n",
    "print(arr.reshape(2, 4).base)\n",
    "#The example above returns the original array, so it is a view."
   ]
  },
  {
   "cell_type": "code",
   "execution_count": 4,
   "id": "add47e8c-a691-4df5-acd8-a0727c2606f8",
   "metadata": {},
   "outputs": [
    {
     "name": "stdout",
     "output_type": "stream",
     "text": [
      "1\n",
      "2\n",
      "3\n"
     ]
    }
   ],
   "source": [
    "#Iterating Arrays:Iterating means going through elements one by one.\n",
    "#As we deal with multi-dimensional arrays in numpy, we can do this using basic for loop of python.\n",
    "#If we iterate on a 1-D array it will go through each element one by one.\n",
    "#Example:Iterate on the elements of the following 1-D array:\n",
    "import numpy as np\n",
    "arr = np.array([1, 2, 3])\n",
    "for x in arr:\n",
    "  print(x)"
   ]
  },
  {
   "cell_type": "code",
   "execution_count": 5,
   "id": "0f086786-182d-416a-a675-fb26480e5d8a",
   "metadata": {},
   "outputs": [
    {
     "name": "stdout",
     "output_type": "stream",
     "text": [
      "[1 2 3]\n",
      "[4 5 6]\n"
     ]
    }
   ],
   "source": [
    "#Iterating 2-D Arrays:In a 2-D array it will go through all the rows.\n",
    "#Example:Iterate on the elements of the following 2-D array:\n",
    "import numpy as np\n",
    "arr = np.array([[1, 2, 3], [4, 5, 6]])\n",
    "for x in arr:\n",
    "  print(x)"
   ]
  },
  {
   "cell_type": "code",
   "execution_count": 6,
   "id": "3181543f-0bc6-4fa8-b794-6e5f14fdb930",
   "metadata": {},
   "outputs": [
    {
     "name": "stdout",
     "output_type": "stream",
     "text": [
      "1\n",
      "2\n",
      "3\n",
      "4\n",
      "5\n",
      "6\n"
     ]
    }
   ],
   "source": [
    "#Example:Iterate on each scalar element of the 2-D array:\n",
    "import numpy as np\n",
    "arr = np.array([[1, 2, 3], [4, 5, 6]])\n",
    "for x in arr:\n",
    "  for y in x:\n",
    "    print(y)"
   ]
  },
  {
   "cell_type": "code",
   "execution_count": 7,
   "id": "e1e8beea-1669-4780-bac1-22ebc2a5977a",
   "metadata": {},
   "outputs": [
    {
     "name": "stdout",
     "output_type": "stream",
     "text": [
      "1\n",
      "2\n",
      "3\n",
      "4\n",
      "5\n",
      "6\n",
      "7\n",
      "8\n",
      "9\n",
      "10\n",
      "11\n",
      "12\n"
     ]
    }
   ],
   "source": [
    "#Example:Iterate down to the scalars:\n",
    "import numpy as np\n",
    "arr = np.array([[[1, 2, 3], [4, 5, 6]], [[7, 8, 9], [10, 11, 12]]])\n",
    "for x in arr:\n",
    "  for y in x:\n",
    "    for z in y:\n",
    "      print(z)"
   ]
  },
  {
   "cell_type": "code",
   "execution_count": 8,
   "id": "8aa74ed8-7184-4ea5-baaf-6b95ff3d3252",
   "metadata": {},
   "outputs": [
    {
     "name": "stdout",
     "output_type": "stream",
     "text": [
      "[1 2 3 4 5 6]\n"
     ]
    }
   ],
   "source": [
    "#Joining NumPy Arrays:Joining means putting contents of two or more arrays in a single array.\n",
    "#In SQL we join tables based on a key, whereas in NumPy we join arrays by axes.\n",
    "#We pass a sequence of arrays that we want to join to the concatenate() function, along with the axis. If axis is not explicitly passed, it is taken as 0.\n",
    "#Example:Join two arrays\n",
    "import numpy as np\n",
    "arr1 = np.array([1, 2, 3])\n",
    "arr2 = np.array([4, 5, 6])\n",
    "arr = np.concatenate((arr1, arr2))\n",
    "print(arr)"
   ]
  },
  {
   "cell_type": "code",
   "execution_count": 9,
   "id": "5d879c14-9499-4f8c-9455-a1fd458c5a68",
   "metadata": {},
   "outputs": [
    {
     "name": "stdout",
     "output_type": "stream",
     "text": [
      "[[1 2 5 6]\n",
      " [3 4 7 8]]\n"
     ]
    }
   ],
   "source": [
    "#Example:Join two 2-D arrays along rows (axis=1):\n",
    "import numpy as np\n",
    "arr1 = np.array([[1, 2], [3, 4]])\n",
    "arr2 = np.array([[5, 6], [7, 8]])\n",
    "arr = np.concatenate((arr1, arr2), axis=1)\n",
    "print(arr)"
   ]
  },
  {
   "cell_type": "code",
   "execution_count": 10,
   "id": "345b37c3-77ed-43e7-8284-1145974780dc",
   "metadata": {},
   "outputs": [
    {
     "name": "stdout",
     "output_type": "stream",
     "text": [
      "[array([1, 2]), array([3, 4]), array([5, 6])]\n"
     ]
    }
   ],
   "source": [
    "#Splitting NumPy Arrays:Splitting is reverse operation of Joining.\n",
    "#Joining merges multiple arrays into one and Splitting breaks one array into multiple.\n",
    "#We use array_split() for splitting arrays, we pass it the array we want to split and the number of splits.\n",
    "#Example:Split the array in 3 parts:\n",
    "import numpy as np\n",
    "arr = np.array([1, 2, 3, 4, 5, 6])\n",
    "newarr = np.array_split(arr, 3)\n",
    "print(newarr)"
   ]
  },
  {
   "cell_type": "code",
   "execution_count": 11,
   "id": "c24fdb2d-6524-4616-95d3-aefd6b9c7681",
   "metadata": {},
   "outputs": [
    {
     "name": "stdout",
     "output_type": "stream",
     "text": [
      "[array([[1, 2, 3],\n",
      "       [4, 5, 6]]), array([[ 7,  8,  9],\n",
      "       [10, 11, 12]]), array([[13, 14, 15],\n",
      "       [16, 17, 18]])]\n"
     ]
    }
   ],
   "source": [
    "#Example:Split the 2-D array into three 2-D arrays.\n",
    "import numpy as np\n",
    "arr = np.array([[1, 2, 3], [4, 5, 6], [7, 8, 9], [10, 11, 12], [13, 14, 15], [16, 17, 18]])\n",
    "newarr = np.array_split(arr, 3)\n",
    "print(newarr)"
   ]
  },
  {
   "cell_type": "code",
   "execution_count": 12,
   "id": "f679f8d8-5cb8-49be-9f35-5a34759c65a8",
   "metadata": {},
   "outputs": [
    {
     "name": "stdout",
     "output_type": "stream",
     "text": [
      "(array([3, 5, 6]),)\n"
     ]
    }
   ],
   "source": [
    "#Searching Arrays:You can search an array for acertain value, and return the indexes that get a match.\n",
    "#To search an array, use the where() method.\n",
    "#Example:Find the indexes where the value is 4:\n",
    "import numpy as np\n",
    "arr = np.array([1, 2, 3, 4, 5, 4, 4])\n",
    "x = np.where(arr == 4)\n",
    "print(x)"
   ]
  },
  {
   "cell_type": "code",
   "execution_count": 13,
   "id": "a3ed7ae9-2ea2-4fa1-bab8-a0c5ad9c83a0",
   "metadata": {},
   "outputs": [
    {
     "name": "stdout",
     "output_type": "stream",
     "text": [
      "(array([1, 3, 5, 7]),)\n"
     ]
    }
   ],
   "source": [
    "#Example:Find the indexes where the values are even:\n",
    "import numpy as np\n",
    "arr = np.array([1, 2, 3, 4, 5, 6, 7, 8])\n",
    "x = np.where(arr%2 == 0)\n",
    "print(x)"
   ]
  },
  {
   "cell_type": "code",
   "execution_count": 15,
   "id": "896bfc51-1853-4088-b2e8-095a988f94fe",
   "metadata": {},
   "outputs": [
    {
     "name": "stdout",
     "output_type": "stream",
     "text": [
      "(array([0, 2, 4, 6]),)\n"
     ]
    }
   ],
   "source": [
    "#Find the indexes where the values are odd.\n",
    "import numpy as np\n",
    "arr = np.array([1, 2, 3, 4, 5, 6, 7, 8])\n",
    "y = np.where(arr % 2 != 0)\n",
    "print(y)"
   ]
  },
  {
   "cell_type": "code",
   "execution_count": 16,
   "id": "11f70938-6ef7-4c73-9d81-085d32ff209c",
   "metadata": {},
   "outputs": [
    {
     "name": "stdout",
     "output_type": "stream",
     "text": [
      "[0 1 2 3]\n"
     ]
    }
   ],
   "source": [
    "#Sorting Arrays:Sorting means putting elements in an ordered sequence.\n",
    "#Ordered sequence is any sequence that has an order corresponding to elements, like numeric or alphabetical, ascending or descending.\n",
    "#The NumPy ndarray object has a function called sort(), that will sort a specified array.\n",
    "#Example:Sort the array:\n",
    "import numpy as np\n",
    "arr = np.array([3, 2, 0, 1])\n",
    "print(np.sort(arr))"
   ]
  },
  {
   "cell_type": "code",
   "execution_count": 18,
   "id": "cea01a15-815a-4624-ad79-0c4c1d697007",
   "metadata": {},
   "outputs": [
    {
     "name": "stdout",
     "output_type": "stream",
     "text": [
      "['Apple' 'Cherry' 'banana']\n"
     ]
    }
   ],
   "source": [
    "#Sort the array alphabetically:['banana', 'cherry', 'apple']\n",
    "import numpy as np\n",
    "arr=np.array(['banana','Cherry','Apple'])\n",
    "print(np.sort(arr))"
   ]
  },
  {
   "cell_type": "code",
   "execution_count": 19,
   "id": "0244d9be-9090-488f-b94c-c8c2cc9d95a7",
   "metadata": {},
   "outputs": [
    {
     "name": "stdout",
     "output_type": "stream",
     "text": [
      "[[2 3 4]\n",
      " [0 1 5]]\n"
     ]
    }
   ],
   "source": [
    "#Sorting a 2-D Array:If you use the sort() method on a 2-D array, both arrays will be sorted:\n",
    "#Example:Sort a 2-D array:\n",
    "import numpy as np\n",
    "arr = np.array([[3, 2, 4], [5, 0, 1]])\n",
    "print(np.sort(arr))"
   ]
  },
  {
   "cell_type": "code",
   "execution_count": 20,
   "id": "7900220e-8c1a-479c-ab72-b0fce016c473",
   "metadata": {},
   "outputs": [
    {
     "name": "stdout",
     "output_type": "stream",
     "text": [
      "[41 43]\n"
     ]
    }
   ],
   "source": [
    "#Filtering Arrays:Getting some elements out of an existing array and creating a new array out of them is called filtering.\n",
    "#In NumPy, you filter an array using a boolean index list. A boolean index list is a list of booleans corresponding to indexes in the array.\n",
    "#If the value at an index is True that element is contained in the filtered array, if the value at that index is False that element is excluded from the filtered array.\n",
    "#Example:Create an array from the elements on index 0 and 2:\n",
    "import numpy as np\n",
    "arr = np.array([41, 42, 43, 44])\n",
    "x = [True, False, True, False]\n",
    "newarr = arr[x]\n",
    "print(newarr)"
   ]
  },
  {
   "cell_type": "code",
   "execution_count": 21,
   "id": "6dfff128-f452-41f9-9ac4-c46b7c9493d8",
   "metadata": {},
   "outputs": [
    {
     "name": "stdout",
     "output_type": "stream",
     "text": [
      "False\n",
      "True\n",
      "False\n",
      "True\n",
      "False\n",
      "True\n",
      "False\n",
      "True\n",
      "[1 2 3 4 5 6 7 8]\n"
     ]
    }
   ],
   "source": [
    "#Example:\n",
    "arr=np.array([1,2,3,4,5,6,7,8])\n",
    "for x in arr:\n",
    " if x%2==0:\n",
    "    print(\"True\")\n",
    " else:\n",
    "    print(\"False\")\n",
    "newarr=arr.copy()\n",
    "print((newarr))"
   ]
  },
  {
   "cell_type": "code",
   "execution_count": null,
   "id": "4f277e61-cee7-46b9-8f9b-177a13fdacb6",
   "metadata": {},
   "outputs": [],
   "source": []
  }
 ],
 "metadata": {
  "kernelspec": {
   "display_name": "Python 3 (ipykernel)",
   "language": "python",
   "name": "python3"
  },
  "language_info": {
   "codemirror_mode": {
    "name": "ipython",
    "version": 3
   },
   "file_extension": ".py",
   "mimetype": "text/x-python",
   "name": "python",
   "nbconvert_exporter": "python",
   "pygments_lexer": "ipython3",
   "version": "3.12.4"
  }
 },
 "nbformat": 4,
 "nbformat_minor": 5
}
